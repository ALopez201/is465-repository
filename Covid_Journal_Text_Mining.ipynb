{
 "cells": [
  {
   "cell_type": "code",
   "execution_count": 2,
   "metadata": {
    "scrolled": true
   },
   "outputs": [
    {
     "name": "stdout",
     "output_type": "stream",
     "text": [
      "Requirement already satisfied: pandas in c:\\users\\moche\\anaconda3\\lib\\site-packages (0.25.1)\n",
      "Requirement already satisfied: numpy>=1.13.3 in c:\\users\\moche\\anaconda3\\lib\\site-packages (from pandas) (1.16.5)\n",
      "Requirement already satisfied: python-dateutil>=2.6.1 in c:\\users\\moche\\anaconda3\\lib\\site-packages (from pandas) (2.8.0)\n",
      "Requirement already satisfied: pytz>=2017.2 in c:\\users\\moche\\anaconda3\\lib\\site-packages (from pandas) (2019.3)\n",
      "Requirement already satisfied: six>=1.5 in c:\\users\\moche\\anaconda3\\lib\\site-packages (from python-dateutil>=2.6.1->pandas) (1.12.0)\n",
      "Requirement already satisfied: numpy in c:\\users\\moche\\anaconda3\\lib\\site-packages (1.16.5)\n",
      "Requirement already satisfied: scipy in c:\\users\\moche\\anaconda3\\lib\\site-packages (1.3.1)\n",
      "Requirement already satisfied: sklearn in c:\\users\\moche\\anaconda3\\lib\\site-packages (0.0)\n",
      "Requirement already satisfied: scikit-learn in c:\\users\\moche\\anaconda3\\lib\\site-packages (from sklearn) (0.22.2.post1)\n",
      "Requirement already satisfied: joblib>=0.11 in c:\\users\\moche\\anaconda3\\lib\\site-packages (from scikit-learn->sklearn) (0.13.2)\n",
      "Requirement already satisfied: scipy>=0.17.0 in c:\\users\\moche\\anaconda3\\lib\\site-packages (from scikit-learn->sklearn) (1.3.1)\n",
      "Requirement already satisfied: numpy>=1.11.0 in c:\\users\\moche\\anaconda3\\lib\\site-packages (from scikit-learn->sklearn) (1.16.5)\n",
      "Requirement already satisfied: matplotlib in c:\\users\\moche\\anaconda3\\lib\\site-packages (3.1.1)\n",
      "Requirement already satisfied: cycler>=0.10 in c:\\users\\moche\\anaconda3\\lib\\site-packages (from matplotlib) (0.10.0)\n",
      "Requirement already satisfied: kiwisolver>=1.0.1 in c:\\users\\moche\\anaconda3\\lib\\site-packages (from matplotlib) (1.1.0)\n",
      "Requirement already satisfied: pyparsing!=2.0.4,!=2.1.2,!=2.1.6,>=2.0.1 in c:\\users\\moche\\anaconda3\\lib\\site-packages (from matplotlib) (2.4.2)\n",
      "Requirement already satisfied: python-dateutil>=2.1 in c:\\users\\moche\\anaconda3\\lib\\site-packages (from matplotlib) (2.8.0)\n",
      "Requirement already satisfied: numpy>=1.11 in c:\\users\\moche\\anaconda3\\lib\\site-packages (from matplotlib) (1.16.5)\n",
      "Requirement already satisfied: six in c:\\users\\moche\\anaconda3\\lib\\site-packages (from cycler>=0.10->matplotlib) (1.12.0)\n",
      "Requirement already satisfied: setuptools in c:\\users\\moche\\anaconda3\\lib\\site-packages (from kiwisolver>=1.0.1->matplotlib) (41.4.0)\n",
      "Requirement already satisfied: nltk in c:\\users\\moche\\anaconda3\\lib\\site-packages (3.4.5)\n",
      "Requirement already satisfied: six in c:\\users\\moche\\anaconda3\\lib\\site-packages (from nltk) (1.12.0)\n"
     ]
    }
   ],
   "source": [
    "!pip install pandas\n",
    "!pip install numpy\n",
    "!pip install scipy\n",
    "!pip install sklearn\n",
    "!pip install matplotlib\n",
    "!pip install nltk"
   ]
  },
  {
   "cell_type": "code",
   "execution_count": 14,
   "metadata": {},
   "outputs": [],
   "source": [
    "import pandas as pd\n",
    "import os\n",
    "import collections\n",
    "import re"
   ]
  },
  {
   "cell_type": "code",
   "execution_count": 4,
   "metadata": {},
   "outputs": [
    {
     "data": {
      "text/plain": [
       "'C:\\\\Users\\\\MoChe'"
      ]
     },
     "execution_count": 4,
     "metadata": {},
     "output_type": "execute_result"
    }
   ],
   "source": []
  },
  {
   "cell_type": "code",
   "execution_count": 34,
   "metadata": {},
   "outputs": [
    {
     "name": "stdout",
     "output_type": "stream",
     "text": [
      "                                                   Title\n",
      "0      Recent advances in the detection of respirator...\n",
      "1      Pneumonia of Unknown Etiology in Wuhan, China:...\n",
      "2      A Novel Coronavirus from Patients with Pneumon...\n",
      "3      A Novel Coronavirus Emerging in China - Key Qu...\n",
      "4      Molecular mechanism for antibody-dependent enh...\n",
      "...                                                  ...\n",
      "12795                        An ACE therapy for COVID-19\n",
      "12796                    A COVID-19 recovery for climate\n",
      "12797  NIH launches competition to speed COVID-19 dia...\n",
      "12798  An overdose surge will compound the COVID-19 p...\n",
      "12799  Fauci mania! His voice for science during pand...\n",
      "\n",
      "[12800 rows x 1 columns]\n"
     ]
    }
   ],
   "source": [
    "CV  = pd.read_csv(\"C:\\\\Users\\\\Moche\\\\Downloads\\\\Full Covid Database.txt\")\n",
    "print(CV)"
   ]
  },
  {
   "cell_type": "code",
   "execution_count": 37,
   "metadata": {},
   "outputs": [
    {
     "name": "stdout",
     "output_type": "stream",
     "text": [
      "['Title']\n",
      "['Recent', 'advances', 'in', 'the', 'detection', 'of', 'respiratory', 'virus', 'infection', 'in', 'humans']\n",
      "['\"Pneumonia', 'of', 'Unknown', 'Etiology', 'in', 'Wuhan,', 'China:', 'Potential', 'for', 'International', 'Spread', 'Via', 'Commercial', 'Air', 'Travel\"']\n",
      "['\"A', 'Novel', 'Coronavirus', 'from', 'Patients', 'with', 'Pneumonia', 'in', 'China,', '2019\"']\n",
      "['A', 'Novel', 'Coronavirus', 'Emerging', 'in', 'China', '-', 'Key', 'Questions', 'for', 'Impact', 'Assessment']\n",
      "['Molecular', 'mechanism', 'for', 'antibody-dependent', 'enhancement', 'of', 'coronavirus', 'entry']\n",
      "['Homologous', 'recombination', 'within', 'the', 'spike', 'glycoprotein', 'of', 'the', 'newly', 'identified', 'coronavirus', 'may', 'boost', 'cross-species', 'transmission', 'from', 'snake', 'to', 'human']\n",
      "['A', 'familial', 'cluster', 'of', 'pneumonia', 'associated', 'with', 'the', '2019', 'novel', 'coronavirus', 'indicating', 'person-to-person', 'transmission:', 'a', 'study', 'of', 'a', 'family', 'cluster']\n",
      "['Epitope-based', 'peptide', 'vaccine', 'design', 'and', 'target', 'site', 'depiction', 'against', 'Middle', 'East', 'Respiratory', 'Syndrome', 'Coronavirus:', 'An', 'immune-informatics', 'study']\n",
      "['\"Epidemiological', 'and', 'Clinical', 'Characteristics', 'of', '99', 'Cases', 'of', '2019-Novel', 'Coronavirus', '(2019-nCoV)', 'Pneumonia', 'in', 'Wuhan,', 'China\"']\n",
      "['Emerging', 'understandings', 'of', '2019-nCoV']\n",
      "['\"Early', 'Transmissibility', 'Assessment', 'of', 'a', 'Novel', 'Coronavirus', 'in', 'Wuhan,', 'China\"']\n",
      "['\"Clinical', 'features', 'of', 'patients', 'infected', 'with', '2019', 'novel', 'coronavirus', 'in', 'Wuhan,', 'China\"']\n",
      "['Characterization', 'of', 'novel', 'monoclonal', 'antibodies', 'against', 'MERS-coronavirus', 'spike', 'protein']\n",
      "['Antigen', 'Capture', 'Enzyme-Linked', 'Immunosorbent', 'Assay', 'for', 'Detecting', 'Middle', 'East', 'Respiratory', 'Syndrome', 'Coronavirus', 'in', 'Humans']\n",
      "['\"Emergence', 'of', 'a', 'novel', 'coronavirus', 'causing', 'respiratory', 'illness', 'from', 'Wuhan,', 'China\"']\n",
      "['Full-genome', 'evolutionary', 'analysis', 'of', 'the', 'novel', 'corona', 'virus', '(2019-nCoV)', 'rejects', 'the', 'hypothesis', 'of', 'emergence', 'as', 'a', 'result', 'of', 'a', 'recent', 'recombination', 'event']\n",
      "['\"The', 'association', 'between', 'domestic', 'train', 'transportation', 'and', 'novel', 'coronavirus', 'outbreak', 'in', 'China,', 'from', '2019', 'to', '2020:', 'A', 'data-driven', 'correlational', 'report\"']\n",
      "['\"Updated', 'understanding', 'of', 'the', 'outbreak', 'of', '2019', 'novel', 'coronavirus', '(2019-nCoV)', 'in', 'Wuhan,', 'China\"']\n",
      "['Emergence', 'of', 'SARS-like', 'Coronavirus', 'poses', 'new', 'challenge', 'in', 'China']\n",
      "['Receptor', 'recognition', 'by', 'novel', 'coronavirus', 'from', 'Wuhan:', 'An', 'analysis', 'based', 'on', 'decade-long', 'structural', 'studies', 'of', 'SARS']\n",
      "['Importation', 'and', 'Human-to-Human', 'Transmission', 'of', 'a', 'Novel', 'Coronavirus', 'in', 'Vietnam']\n",
      "['\"The', 'Extent', 'of', 'Transmission', 'of', 'Novel', 'Coronavirus', 'in', 'Wuhan,', 'China,', '2020\"']\n",
      "['Drug', 'treatment', 'options', 'for', 'the', '2019-new', 'coronavirus', '(2019-nCoV)']\n",
      "['\"Early', 'Transmission', 'Dynamics', 'in', 'Wuhan,', 'China,', 'of', 'Novel', 'Coronavirusâ€“Infected', 'Pneumonia\"']\n",
      "['Return', 'of', 'the', 'Coronavirus:', '2019-nCoV']\n",
      "['Genomic', 'characterization', 'of', 'the', '2019', 'novel', 'human-pathogenic', 'coronavirus', 'isolated', 'from', 'a', 'patient', 'with', 'atypical', 'pneumonia', 'after', 'visiting', 'Wuhan']\n",
      "['\"SARS-CoV,', 'MERS-CoV', 'and', 'now', 'the', '2019-novel', 'CoV:', 'Have', 'we', 'investigated', 'enough', 'about', 'coronaviruses?', 'â€“', 'A', 'bibliometric', 'analysis\"']\n",
      "['\"The', 'next', 'big', 'threat', 'to', 'global', 'health?', '2019', 'novel', 'coronavirus', '(2019-nCoV):', 'What', 'advice', 'can', 'we', 'give', 'to', 'travellers?', 'â€“', 'Interim', 'recommendations', 'January', '2020,', 'from', 'the', 'Latin-American', 'society', 'for', 'Travel', 'Medicine', '(SLAMVI)\"']\n",
      "['The', '2019-new', 'coronavirus', 'epidemic:', 'evidence', 'for', 'virus', 'evolution']\n",
      "['\"Gold', 'nanoparticle&#8208;adjuvanted', 'S', 'protein', 'induces', 'a', 'strong', 'antigen&#8208;specific', 'IgG', 'response', 'against', 'severe', 'acute', 'respiratory', 'syndrome&#8208;related', 'coronavirus', 'infection,', 'but', 'fails', 'to', 'induce', 'protective', 'antibodies', 'and', 'limit', 'eosinophilic', 'infiltration', 'in', 'lungs\"']\n",
      "['Potential', 'of', 'large', \"'first\", \"generation'\", 'human-to-human', 'transmission', 'of', '2019-nCoV']\n",
      "['Offline:', '2019-nCoV', 'outbreak&#x2014;early', 'lessons']\n",
      "['\"Epidemiological', 'and', 'clinical', 'characteristics', 'of', '99', 'cases', 'of', '2019', 'novel', 'coronavirus', 'pneumonia', 'in', 'Wuhan,', 'China:', 'a', 'descriptive', 'study\"']\n",
      "['Genomic', 'characterisation', 'and', 'epidemiology', 'of', '2019', 'novel', 'coronavirus:', 'implications', 'for', 'virus', 'origins', 'and', 'receptor', 'binding']\n",
      "['Wuhan:', 'Britons', 'to', 'be', 'evacuated', 'as', 'scientists', 'estimate', '44', '000', 'cases', 'of', '2019-nCOV', 'in', 'the', 'city']\n",
      "['\"The', 'Novel', 'Coronavirus', 'Originating', 'in', 'Wuhan,', 'China:', 'Challenges', 'for', 'Global', 'Health', 'Governance\"']\n",
      "['\"Real-time', 'tentative', 'assessment', 'of', 'the', 'epidemiological', 'characteristics', 'of', 'novel', 'coronavirus', 'infections', 'in', 'Wuhan,', 'China,', 'as', 'at', '22', 'January', '2020\"']\n",
      "['Transmission', 'of', '2019-nCoV', 'Infection', 'from', 'an', 'Asymptomatic', 'Contact', 'in', 'Germany']\n",
      "['Stop', 'the', 'Wuhan', 'virus']\n",
      "['Response', 'to', 'the', 'emerging', 'novel', 'coronavirus', 'outbreak']\n",
      "['\"Preliminary', 'estimation', 'of', 'the', 'basic', 'reproduction', 'number', 'of', 'novel', 'coronavirus', '(2019-nCoV)', 'in', 'China,', 'from', '2019', 'to', '2020:', 'A', 'data-driven', 'analysis', 'in', 'the', 'early', 'phase', 'of', 'the', 'outbreak\"']\n",
      "['Potential', 'for', 'global', 'spread', 'of', 'a', 'novel', 'coronavirus', 'from', 'China']\n",
      "['Outbreak', 'of', 'a', 'novel', 'coronavirus']\n",
      "['Offline:', '2019-nCoV', 'outbreakâ€”early', 'lessons']\n",
      "['\"Nowcasting', 'and', 'forecasting', 'the', 'potential', 'domestic', 'and', 'international', 'spread', 'of', 'the', '2019-nCoV', 'outbreak', 'originating', 'in', 'Wuhan,', 'China:', 'a', 'modelling', 'study\"']\n",
      "['Novel', 'Wuhan', '(2019-nCoV)', 'Coronavirus']\n",
      "['Novel', 'coronavirus:', 'From', 'discovery', 'to', 'clinical', 'diagnostics']\n",
      "['The', 'Novel', 'Chinese', 'Coronavirus', '(2019-nCoV)', 'Infections:', 'challenges', 'for', 'fighting', 'the', 'storm']\n",
      "['Mysterious', 'infections', 'in', 'China:', 'Novel', 'coronavirus', 'identified', 'as', 'cause', 'of', 'pneumonia']\n",
      "['\"Measures', 'for', 'diagnosing', 'and', 'treating', 'infections', 'by', 'a', 'novel', 'coronavirus', 'responsible', 'for', 'a', 'pneumonia', 'outbreak', 'originating', 'in', 'Wuhan,', 'China\"']\n",
      "['Laboratory', 'biosafety', 'guide', 'for', 'the', 'novel', 'coronavirus']\n",
      "['Identification', 'of', 'potential', 'cross-protective', 'epitope', 'between', '2019-nCoV', 'and', 'SARS', 'virus']\n",
      "['Identification', 'of', 'a', 'novel', 'coronavirus', 'causing', 'severe', 'pneumonia', 'in', 'human:', 'a', 'descriptive', 'study']\n",
      "['Global', 'Health', 'Concern', 'Stirred', 'by', 'Emerging', 'Viral', 'Infections']\n",
      "['First', 'Case', 'of', '2019', 'Novel', 'Coronavirus', 'in', 'the', 'United', 'States']\n",
      "['Estimating', 'the', 'Unreported', 'Number', 'of', 'Novel', 'Coronavirus', '(2019-nCoV)', 'Cases', 'in', 'China', 'in', 'the', 'First', 'Half', 'of', 'January', '2020:', 'A', 'Data-Driven', 'Modelling', 'Analysis', 'of', 'the', 'Early', 'Outbreak']\n",
      "['\"An', 'emerging', 'coronavirus', 'causing', 'pneumonia', 'outbreak', 'in', 'Wuhan,', 'China:', 'calling', 'for', 'developing', 'therapeutic', 'and', 'prophylactic', 'strategies\"']\n",
      "['CT', 'Imaging', 'of', 'the', '2019', 'Novel', 'Coronavirus', '(2019-nCoV)', 'Pneumonia']\n",
      "['Coronavirus:', 'Stehen', 'wir', 'am', 'Beginn', 'einer', 'neuen', 'Pandemie?']\n",
      "['Coronavirus', 'spreads']\n",
      "['Coronavirus', 'Infections-More', 'Than', 'Just', 'the', 'Common', 'Cold']\n",
      "['Clinical', 'presentation', 'and', 'outcomes', 'of', 'long-term', 'care', 'residents', 'with', 'coronavirus', 'respiratory', 'infection:', 'A', 'retrospective', 'cohort', 'study']\n",
      "['Chinaâ€™s', 'response', 'to', 'a', 'novel', 'coronavirus', 'stands', 'in', 'stark', 'contrast', 'to', 'the', '2002', 'SARS', 'outbreak', 'response']\n",
      "['China', 'coronavirus:', 'what', 'do', 'we', 'know', 'so', 'far?']\n",
      "['China', 'coronavirus:', 'cases', 'surge', 'as', 'official', 'admits', 'human', 'to', 'human', 'transmission']\n",
      "['\"Another', 'Decade,', 'Another', 'Coronavirus\"']\n",
      "['Recent', 'advances', 'in', 'lab-on-a-chip', 'technologies', 'for', 'viral', 'diagnosis']\n",
      "['\"Estimating', 'the', 'Unreported', 'Number', 'of', 'Novel', 'Coronavirus', '(2019-nCoV)', 'Cases', 'in', 'China', 'in', 'the', 'First', 'Half', 'of', 'January', '2020:', 'A', 'Data-Driven', 'Modelling', 'Analysis', 'of', 'the', 'Early', 'Outbreak', 'Risk', 'Management', 'Analysis', 'for', 'Novel', 'Coronavirus', 'in', 'Wuhan,', 'China\"']\n",
      "['The', 'psychological', 'effects', 'of', 'quarantining', 'a', 'city']\n",
      "['\"China', 'coronavirus:', 'partial', 'border', 'closures', 'into', 'Hong', 'Kong', 'are', 'not', 'enough,', 'say', 'doctors\"']\n",
      "['Chinese', 'premier', 'rallies', 'medics', 'in', 'coronavirus', 'fight']\n",
      "['\"Following', 'the', 'evidence,', 'from', 'coronavirus', 'to', 'terrorism', 'response\"']\n",
      "['\"China', 'coronavirus:', 'mild', 'but', 'infectious', 'cases', 'may', 'make', 'it', 'hard', 'to', 'control', 'outbreak,', 'report', 'warns\"']\n",
      "['China', 'coronavirus:', 'WHO', 'declares', 'international', 'emergency', 'as', 'death', 'toll', 'exceeds', '200']\n",
      "['Coronavirus', 'shows', 'how', 'UK', 'must', 'act', 'quickly', 'before', 'being', 'shut', 'out', 'of', 'Europeâ€™s', 'health', 'protection', 'systems']\n",
      "['New', 'SARS-like', 'virus', 'in', 'China', 'triggers', 'alarm']\n",
      "['Coronavirus', 'in', 'China']\n",
      "['Remdesivir', 'and', 'chloroquine', 'effectively', 'inhibit', 'the', 'recently', 'emerged', 'novel', 'coronavirus', '(2019-nCoV)', 'in', 'vitro']\n",
      "['\"Should,', 'and', 'how', 'can,', 'exercise', 'be', 'done', 'during', 'a', 'coronavirus', 'outbreak?', 'â€”', 'An', 'interview', 'with', 'Dr.', 'Jeffrey', 'A.', 'Woods\"']\n",
      "['Timely', 'mental', 'health', 'care', 'for', 'the', '2019', 'novel', 'coronavirus', 'outbreak', 'is', 'urgently', 'needed']\n",
      "['A', 'new', 'pandemic', 'out', 'of', 'China:', 'the', 'Wuhan', 'coronavirus', 'syndrome']\n",
      "['Novo', 'Coronavirus', '(nCoV)']\n",
      "['Baricitinib', 'as', 'potential', 'treatment', 'for', '2019-nCoV', 'acute', 'respiratory', 'disease']\n",
      "['Outbreak', 'of', 'novel', 'Corona', 'Virus', '(2019-nCoV);', 'implications', 'for', 'travelers', 'to', 'Pakistan?']\n",
      "['China', 'coronavirus:', 'Hong', 'Kong', 'health', 'staff', 'strike', 'to', 'demand', 'border', 'closure', 'as', 'city', 'records', 'first', 'death']\n",
      "['Emerging', 'threats', 'from', 'zoonotic', 'coronaviruses-from', 'SARS', 'and', 'MERS', 'to', '2019-nCoV']\n",
      "['Updates', 'on', 'Wuhan', '2019', 'Novel', 'Coronavirus', 'Epidemic']\n",
      "['Novel', 'coronavirus', 'is', 'putting', 'the', 'whole', 'world', 'on', 'alert']\n",
      "['The', 'coronavirus', 'outbreak:', 'the', 'central', 'role', 'of', 'primary', 'care', 'in', 'emergency', 'preparedness', 'and', 'response']\n",
      "['Detection', 'of', '2019', 'novel', 'coronavirus', '(2019-nCoV)', 'by', 'real-time', 'RT-PCR']\n",
      "['New', 'coronavirus', 'threat', 'galvanizes', 'scientists']\n"
     ]
    },
    {
     "ename": "UnicodeDecodeError",
     "evalue": "'charmap' codec can't decode byte 0x9d in position 2641: character maps to <undefined>",
     "output_type": "error",
     "traceback": [
      "\u001b[1;31m---------------------------------------------------------------------------\u001b[0m",
      "\u001b[1;31mUnicodeDecodeError\u001b[0m                        Traceback (most recent call last)",
      "\u001b[1;32m<ipython-input-37-a840fec374fb>\u001b[0m in \u001b[0;36m<module>\u001b[1;34m\u001b[0m\n\u001b[0;32m      1\u001b[0m \u001b[1;32mwith\u001b[0m \u001b[0mopen\u001b[0m\u001b[1;33m(\u001b[0m\u001b[1;34m\"C:\\\\Users\\\\Moche\\\\Downloads\\\\Full Covid Database.txt\"\u001b[0m\u001b[1;33m,\u001b[0m \u001b[1;34m\"r\"\u001b[0m\u001b[1;33m)\u001b[0m \u001b[1;32mas\u001b[0m \u001b[0mmy_file\u001b[0m\u001b[1;33m:\u001b[0m\u001b[1;33m\u001b[0m\u001b[1;33m\u001b[0m\u001b[0m\n\u001b[1;32m----> 2\u001b[1;33m   \u001b[1;32mfor\u001b[0m \u001b[0mline\u001b[0m \u001b[1;32min\u001b[0m \u001b[0mmy_file\u001b[0m\u001b[1;33m:\u001b[0m\u001b[1;33m\u001b[0m\u001b[1;33m\u001b[0m\u001b[0m\n\u001b[0m\u001b[0;32m      3\u001b[0m       \u001b[0mstr\u001b[0m \u001b[1;33m=\u001b[0m \u001b[0mline\u001b[0m\u001b[1;33m.\u001b[0m\u001b[0msplit\u001b[0m\u001b[1;33m(\u001b[0m\u001b[1;33m)\u001b[0m\u001b[1;33m\u001b[0m\u001b[1;33m\u001b[0m\u001b[0m\n\u001b[0;32m      4\u001b[0m       \u001b[0mprint\u001b[0m\u001b[1;33m(\u001b[0m\u001b[0mstr\u001b[0m\u001b[1;33m)\u001b[0m\u001b[1;33m\u001b[0m\u001b[1;33m\u001b[0m\u001b[0m\n",
      "\u001b[1;32m~\\Anaconda3\\lib\\encodings\\cp1252.py\u001b[0m in \u001b[0;36mdecode\u001b[1;34m(self, input, final)\u001b[0m\n\u001b[0;32m     21\u001b[0m \u001b[1;32mclass\u001b[0m \u001b[0mIncrementalDecoder\u001b[0m\u001b[1;33m(\u001b[0m\u001b[0mcodecs\u001b[0m\u001b[1;33m.\u001b[0m\u001b[0mIncrementalDecoder\u001b[0m\u001b[1;33m)\u001b[0m\u001b[1;33m:\u001b[0m\u001b[1;33m\u001b[0m\u001b[1;33m\u001b[0m\u001b[0m\n\u001b[0;32m     22\u001b[0m     \u001b[1;32mdef\u001b[0m \u001b[0mdecode\u001b[0m\u001b[1;33m(\u001b[0m\u001b[0mself\u001b[0m\u001b[1;33m,\u001b[0m \u001b[0minput\u001b[0m\u001b[1;33m,\u001b[0m \u001b[0mfinal\u001b[0m\u001b[1;33m=\u001b[0m\u001b[1;32mFalse\u001b[0m\u001b[1;33m)\u001b[0m\u001b[1;33m:\u001b[0m\u001b[1;33m\u001b[0m\u001b[1;33m\u001b[0m\u001b[0m\n\u001b[1;32m---> 23\u001b[1;33m         \u001b[1;32mreturn\u001b[0m \u001b[0mcodecs\u001b[0m\u001b[1;33m.\u001b[0m\u001b[0mcharmap_decode\u001b[0m\u001b[1;33m(\u001b[0m\u001b[0minput\u001b[0m\u001b[1;33m,\u001b[0m\u001b[0mself\u001b[0m\u001b[1;33m.\u001b[0m\u001b[0merrors\u001b[0m\u001b[1;33m,\u001b[0m\u001b[0mdecoding_table\u001b[0m\u001b[1;33m)\u001b[0m\u001b[1;33m[\u001b[0m\u001b[1;36m0\u001b[0m\u001b[1;33m]\u001b[0m\u001b[1;33m\u001b[0m\u001b[1;33m\u001b[0m\u001b[0m\n\u001b[0m\u001b[0;32m     24\u001b[0m \u001b[1;33m\u001b[0m\u001b[0m\n\u001b[0;32m     25\u001b[0m \u001b[1;32mclass\u001b[0m \u001b[0mStreamWriter\u001b[0m\u001b[1;33m(\u001b[0m\u001b[0mCodec\u001b[0m\u001b[1;33m,\u001b[0m\u001b[0mcodecs\u001b[0m\u001b[1;33m.\u001b[0m\u001b[0mStreamWriter\u001b[0m\u001b[1;33m)\u001b[0m\u001b[1;33m:\u001b[0m\u001b[1;33m\u001b[0m\u001b[1;33m\u001b[0m\u001b[0m\n",
      "\u001b[1;31mUnicodeDecodeError\u001b[0m: 'charmap' codec can't decode byte 0x9d in position 2641: character maps to <undefined>"
     ]
    }
   ],
   "source": [
    "with open(\"C:\\\\Users\\\\Moche\\\\Downloads\\\\Full Covid Database.txt\", \"r\") as my_file:\n",
    "  for line in my_file:\n",
    "      str = line.split()\n",
    "      print(str)"
   ]
  },
  {
   "cell_type": "code",
   "execution_count": 1,
   "metadata": {},
   "outputs": [
    {
     "name": "stdout",
     "output_type": "stream",
     "text": [
      "How many most common words to print: 50\n",
      "\n",
      "OK. The 50 most common words are as follows\n",
      "\n",
      "covid-19 :  6706\n",
      "coronavirus :  3041\n",
      "pandemic :  1654\n",
      "disease :  1299\n",
      "patients :  1280\n",
      "novel :  1172\n",
      "2019 :  1163\n",
      "sars-cov-2 :  1018\n",
      "(covid-19) :  831\n",
      "infection :  816\n",
      "outbreak :  798\n",
      "health :  683\n",
      "clinical :  669\n",
      "china :  668\n",
      "pneumonia :  567\n",
      "care :  548\n",
      "management :  465\n",
      "treatment :  449\n",
      "epidemic :  420\n",
      "respiratory :  382\n",
      "response :  362\n",
      "severe :  336\n",
      "new :  319\n",
      "case :  314\n",
      "cases :  312\n",
      "acute :  298\n",
      "wuhan :  285\n",
      "virus :  283\n",
      "potential :  283\n",
      "analysis :  283\n",
      "study :  279\n",
      "time :  275\n",
      "risk :  274\n",
      "cancer :  268\n",
      "prevention :  265\n",
      "- :  262\n",
      "impact :  260\n",
      "control :  258\n",
      "emergency :  258\n",
      "review :  256\n",
      "patient :  255\n",
      "syndrome :  250\n",
      "transmission :  249\n",
      "2020 :  247\n",
      " :  243\n",
      "global :  240\n",
      "la :  238\n",
      "characteristics :  234\n",
      "medical :  231\n",
      "public :  218\n"
     ]
    },
    {
     "data": {
      "text/plain": [
       "<matplotlib.axes._subplots.AxesSubplot at 0x17a1b852c48>"
      ]
     },
     "execution_count": 1,
     "metadata": {},
     "output_type": "execute_result"
    },
    {
     "data": {
      "image/png": "[encoded data removed]",
      "text/plain": [
       "<Figure size 432x288 with 1 Axes>"
      ]
     },
     "metadata": {
      "needs_background": "light"
     },
     "output_type": "display_data"
    }
   ],
   "source": [
    "#copy the code and use your own stopwords to make it better!\n",
    "import collections\n",
    "import pandas as pd\n",
    "import matplotlib.pyplot as plt\n",
    "%matplotlib inline\n",
    "# Read input file, note the encoding is specified here \n",
    "# It may be different in your text file\n",
    "file = open(\"C:\\\\Users\\\\Moche\\\\Downloads\\\\Full Covid Database.txt\", encoding=\"utf8\")\n",
    "a= file.read()\n",
    "# Stopwords\n",
    "stopwords = set(line.strip() for line in open('C:\\\\Users\\\\Moche\\\\Downloads\\\\Stopwords.txt'))\n",
    "stopwords = stopwords.union(set(['mr','mrs','one','two','said']))\n",
    "# Instantiate a dictionary, and for every word in the file, \n",
    "# Add to the dictionary if it doesn't exist. If it does, increase the count.\n",
    "wordcount = {}\n",
    "# To eliminate duplicates, remember to split by punctuation, and use case demiliters.\n",
    "for word in a.lower().split():\n",
    "    word = word.replace(\".\",\"\")\n",
    "    word = word.replace(\",\",\"\")\n",
    "    word = word.replace(\":\",\"\")\n",
    "    word = word.replace(\"\\\"\",\"\")\n",
    "    word = word.replace(\"!\",\"\")\n",
    "    word = word.replace(\"â€œ\",\"\")\n",
    "    word = word.replace(\"â€˜\",\"\")\n",
    "    word = word.replace(\"*\",\"\")\n",
    "    if word not in stopwords:\n",
    "        if word not in wordcount:\n",
    "            wordcount[word] = 1\n",
    "        else:\n",
    "            wordcount[word] += 1\n",
    "# Print most common word\n",
    "n_print = int(input(\"How many most common words to print: \"))\n",
    "print(\"\\nOK. The {} most common words are as follows\\n\".format(n_print))\n",
    "word_counter = collections.Counter(wordcount)\n",
    "for word, count in word_counter.most_common(n_print):\n",
    "    print(word, \": \", count)\n",
    "# Close the file\n",
    "file.close()\n",
    "# Create a data frame of the most common words \n",
    "# Draw a bar chart\n",
    "lst = word_counter.most_common(n_print)\n",
    "df = pd.DataFrame(lst, columns = ['Word', 'Count'])\n",
    "df.plot.bar(x='Word',y='Count')"
   ]
  },
  {
   "cell_type": "code",
   "execution_count": null,
   "metadata": {},
   "outputs": [],
   "source": []
  }
 ],
 "metadata": {
  "kernelspec": {
   "display_name": "Python 3",
   "language": "python",
   "name": "python3"
  },
  "language_info": {
   "codemirror_mode": {
    "name": "ipython",
    "version": 3
   },
   "file_extension": ".py",
   "mimetype": "text/x-python",
   "name": "python",
   "nbconvert_exporter": "python",
   "pygments_lexer": "ipython3",
   "version": "3.7.4"
  }
 },
 "nbformat": 4,
 "nbformat_minor": 2
}
