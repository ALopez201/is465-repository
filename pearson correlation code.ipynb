{
 "cells": [
  {
   "cell_type": "code",
   "execution_count": 185,
   "metadata": {},
   "outputs": [],
   "source": [
    "import pandas as pd\n",
    "import numpy as np\n",
    "import matplotlib.pyplot as plt\n",
    "import seaborn as sb\n",
    "\n"
   ]
  },
  {
   "cell_type": "code",
   "execution_count": 186,
   "metadata": {},
   "outputs": [],
   "source": [
    "df= pd.read_csv('world data.csv')"
   ]
  },
  {
   "cell_type": "code",
   "execution_count": 187,
   "metadata": {},
   "outputs": [
    {
     "data": {
      "text/html": [
       "<div>\n",
       "<style scoped>\n",
       "    .dataframe tbody tr th:only-of-type {\n",
       "        vertical-align: middle;\n",
       "    }\n",
       "\n",
       "    .dataframe tbody tr th {\n",
       "        vertical-align: top;\n",
       "    }\n",
       "\n",
       "    .dataframe thead th {\n",
       "        text-align: right;\n",
       "    }\n",
       "</style>\n",
       "<table border=\"1\" class=\"dataframe\">\n",
       "  <thead>\n",
       "    <tr style=\"text-align: right;\">\n",
       "      <th></th>\n",
       "      <th>day</th>\n",
       "      <th>month</th>\n",
       "      <th>year</th>\n",
       "      <th>cases</th>\n",
       "      <th>deaths</th>\n",
       "      <th>popData2020</th>\n",
       "    </tr>\n",
       "  </thead>\n",
       "  <tbody>\n",
       "    <tr>\n",
       "      <td>day</td>\n",
       "      <td>1.000000</td>\n",
       "      <td>-0.055333</td>\n",
       "      <td>-0.110588</td>\n",
       "      <td>-0.000267</td>\n",
       "      <td>-0.001647</td>\n",
       "      <td>-0.015779</td>\n",
       "    </tr>\n",
       "    <tr>\n",
       "      <td>month</td>\n",
       "      <td>-0.055333</td>\n",
       "      <td>1.000000</td>\n",
       "      <td>-0.469342</td>\n",
       "      <td>0.077611</td>\n",
       "      <td>0.080191</td>\n",
       "      <td>-0.085877</td>\n",
       "    </tr>\n",
       "    <tr>\n",
       "      <td>year</td>\n",
       "      <td>-0.110588</td>\n",
       "      <td>-0.469342</td>\n",
       "      <td>1.000000</td>\n",
       "      <td>0.009736</td>\n",
       "      <td>0.009050</td>\n",
       "      <td>-0.011423</td>\n",
       "    </tr>\n",
       "    <tr>\n",
       "      <td>cases</td>\n",
       "      <td>-0.000267</td>\n",
       "      <td>0.077611</td>\n",
       "      <td>0.009736</td>\n",
       "      <td>1.000000</td>\n",
       "      <td>0.840150</td>\n",
       "      <td>0.116442</td>\n",
       "    </tr>\n",
       "    <tr>\n",
       "      <td>deaths</td>\n",
       "      <td>-0.001647</td>\n",
       "      <td>0.080191</td>\n",
       "      <td>0.009050</td>\n",
       "      <td>0.840150</td>\n",
       "      <td>1.000000</td>\n",
       "      <td>0.082800</td>\n",
       "    </tr>\n",
       "    <tr>\n",
       "      <td>popData2020</td>\n",
       "      <td>-0.015779</td>\n",
       "      <td>-0.085877</td>\n",
       "      <td>-0.011423</td>\n",
       "      <td>0.116442</td>\n",
       "      <td>0.082800</td>\n",
       "      <td>1.000000</td>\n",
       "    </tr>\n",
       "  </tbody>\n",
       "</table>\n",
       "</div>"
      ],
      "text/plain": [
       "                  day     month      year     cases    deaths  popData2020\n",
       "day          1.000000 -0.055333 -0.110588 -0.000267 -0.001647    -0.015779\n",
       "month       -0.055333  1.000000 -0.469342  0.077611  0.080191    -0.085877\n",
       "year        -0.110588 -0.469342  1.000000  0.009736  0.009050    -0.011423\n",
       "cases       -0.000267  0.077611  0.009736  1.000000  0.840150     0.116442\n",
       "deaths      -0.001647  0.080191  0.009050  0.840150  1.000000     0.082800\n",
       "popData2020 -0.015779 -0.085877 -0.011423  0.116442  0.082800     1.000000"
      ]
     },
     "execution_count": 187,
     "metadata": {},
     "output_type": "execute_result"
    }
   ],
   "source": [
    "pearsoncorr = df.corr()\n",
    "pearsoncorr"
   ]
  },
  {
   "cell_type": "code",
   "execution_count": 188,
   "metadata": {},
   "outputs": [
    {
     "data": {
      "text/plain": [
       "<matplotlib.axes._subplots.AxesSubplot at 0x26eaa75bc08>"
      ]
     },
     "execution_count": 188,
     "metadata": {},
     "output_type": "execute_result"
    },
    {
     "data": {
      "image/png": "[encoded data removed]",
      "text/plain": [
       "<Figure size 432x288 with 2 Axes>"
      ]
     },
     "metadata": {
      "needs_background": "light"
     },
     "output_type": "display_data"
    }
   ],
   "source": [
    "sb.heatmap(pearsoncorr, \n",
    "            xticklabels=pearsoncorr.columns,\n",
    "            yticklabels=pearsoncorr.columns,\n",
    "            cmap='RdBu_r',\n",
    "            annot=True,\n",
    "            linewidth=0.5)"
   ]
  }
 ],
 "metadata": {
  "colab": {
   "collapsed_sections": [],
   "name": "pearson sr test file .ipynb",
   "provenance": []
  },
  "kernelspec": {
   "display_name": "Python 3",
   "language": "python",
   "name": "python3"
  },
  "language_info": {
   "codemirror_mode": {
    "name": "ipython",
    "version": 3
   },
   "file_extension": ".py",
   "mimetype": "text/x-python",
   "name": "python",
   "nbconvert_exporter": "python",
   "pygments_lexer": "ipython3",
   "version": "3.7.4"
  }
 },
 "nbformat": 4,
 "nbformat_minor": 1
}
